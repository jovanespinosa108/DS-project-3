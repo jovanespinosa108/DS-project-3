{
 "cells": [
  {
   "cell_type": "markdown",
   "metadata": {},
   "source": [
    "Descripción del proyecto\n",
    "\n",
    "Como analista de datos, tu trabajo consiste en analizar datos para extraer información valiosa y tomar decisiones basadas en ellos. Esto implica diferentes etapas, como la descripción general de los datos, el preprocesamiento y la prueba de hipótesis.\n",
    "\n",
    "Las hipótesis son suposiciones hechas sobre una población con base en una muestra de datos. Estas suposiciones se prueban utilizando métodos estadísticos para determinar si son verdaderas o falsas. Una prueba de hipótesis consiste en hacer una declaración sobre la población, recopilar datos y usar métodos estadísticos para probar esa declaración.\n",
    "\n",
    "Siempre que realizamos un análisis, tenemos que formular hipótesis que luego podamos poner a prueba. A veces aceptamos estas hipótesis; otras veces, las rechazamos. Para tomar las decisiones correctas, una empresa debe ser capaz de entender si está haciendo las suposiciones correctas.\n",
    "\n",
    "Descripción del proyecto\n",
    "\n",
    "En el contexto de este proyecto, probarás una hipótesis relacionada con las preferencias musicales de dos ciudades. Esto se hará mediante el análisis de datos reales de transmisión de música online para probar la hipótesis a continuación y comparar el comportamiento de los usuarios de estas dos ciudades.\n",
    "\n",
    "Esto implicará analizar los datos reales de transmisión de música online para comparar el comportamiento de los usuarios en Springfield y Shelbyville. El proyecto se divide en tres etapas, cada una con objetivos específicos.\n",
    "\n",
    "En la etapa 1, proporcionarás una descripción general de los datos y anotarás tus observaciones. En la etapa 2, preprocesarás los datos al limpiarlos. Finalmente, en la etapa 3, pondrás a prueba la hipótesis siguiendo los pasos de programación necesarios para probar cada declaración y comentando tus resultados en los bloques apropiados.\n",
    "\n",
    "Al completar estas etapas, podrás extraer información valiosa de los datos y tomar decisiones basadas en datos.\n",
    "\n",
    "Hipótesis\n",
    "\n",
    "Para este proyecto, recopilamos los requisitos y desarrollamos una hipótesis que debe ser confirmada o negada.\n",
    "\n",
    "Al probar hipótesis, es importante tener en cuenta que pueden aceptarse por completo, aceptarse parcialmente, rechazarse parcialmente o rechazarse por completo.\n",
    "\n",
    "Cuando una hipótesis se acepta por completo, significa que los resultados de la prueba respaldan sin ambigüedades la declaración hecha sobre la población.\n",
    "\n",
    "Si se acepta solo parcialmente, significa que los resultados respaldan la declaración en cierta medida, pero no lo suficiente como para aceptarla por completo.\n",
    "\n",
    "Por el contrario, si una hipótesis se rechaza por completo, significa que los resultados de la prueba no respaldan la declaración hecha sobre la población.\n",
    "\n",
    "Por último, una hipótesis también puede ser rechazada parcialmente si los datos indican que es falsa, pero no puedes rechazarla por completo. Cuando se interpretan los resultados de una prueba de hipótesis, es importante tener en cuenta estas diferentes posibilidades.\n",
    "\n",
    "Aquí está nuestra hipótesis para aceptar o rechazar:\n",
    "\n",
    "La actividad de los usuarios y las usuarias difiere según el día de la semana y dependiendo de la ciudad.\n",
    "Diccionario de datos\n",
    "Los datos se almacenan en el archivo /datasets/music_project_en.csv. \n",
    "\n",
    "También puedes descargarlo aquí.\n",
    "\n",
    "Descripción de las columnas:\n",
    "\n",
    "'userID': identifica de forma exclusiva a cada usuario o usuaria;\n",
    "\n",
    "'Track': título de la canción;\n",
    "\n",
    "'artist': nombre del artista;\n",
    "\n",
    "'genre': género musical;\n",
    "\n",
    "'City': ciudad del usuario o la usuaria;\n",
    "\n",
    "'time': hora del día en la que se reprodujo la pista (HH:MM:SS);\n",
    "\n",
    "'Day': día de la semana.\n",
    "\n",
    "Instrucciones para completar el proyecto\n",
    "\n",
    "Se te proporciona una plantilla del cuaderno, donde puedes escribir tu código y proporcionar descripciones de tu análisis. Para completar el proyecto, rellena cada celda de código en la plantilla y edita las celdas Markdown donde la plantilla te pide que expliques tus resultados.\n",
    "\n",
    "Siempre es una buena práctica incluir una introducción que describa brevemente tus objetivos y una conclusión que resuma tus resultados en forma de celdas Markdown. \n",
    "\n",
    "Antes de comenzar, repasemos las tres etapas del proyecto una vez más:\n",
    "\n",
    "Etapa 1: Descripción de los datos. El cuaderno tiene celdas preparadas con instrucciones sobre qué tipo de código escribir, así como bloques de texto donde puedes anotar tus observaciones.\n",
    "\n",
    "Etapa 2: Preprocesamiento de datos. En esta etapa, limpiarás los datos examinando los nombres de las columnas y abordando los valores duplicados y ausentes. Sigue la estructura proporcionada en el cuaderno y asegúrate de anotar tus observaciones al final de esta sección.\n",
    "\n",
    "Etapa 3: Prueba de hipótesis. Es el núcleo de tu proyecto. Sigue los pasos de programación necesarios para probar cada declaración y comenta tus resultados en los bloques apropiados. Finalmente, resume los resultados de todo el proyecto en la sección \"Conclusiones\".\n",
    "\n",
    "Lista de comprobación\n",
    "\n",
    "Antes de entregar el proyecto, asegúrate de que:\n",
    "\n",
    "completaste todas las etapas del proyecto y rellenaste cada celda;\n",
    "la estructura lógica del proyecto sigue la estructura de la plantilla."
   ]
  },
  {
   "cell_type": "markdown",
   "metadata": {},
   "source": [
    "1  Introducción\n",
    "\n",
    "Como analista de datos, tu trabajo consiste en analizar datos para extraer información valiosa y tomar decisiones basadas en ellos. Esto implica diferentes etapas, como la descripción general de los datos, el preprocesamiento y la prueba de hipótesis.\n",
    "\n",
    "Siempre que investigamos, necesitamos formular hipótesis que después podamos probar. A veces aceptamos estas hipótesis; otras veces, las rechazamos. Para tomar las decisiones correctas, una empresa debe ser capaz de entender si está haciendo las suposiciones correctas.\n",
    "\n",
    "En este proyecto, compararás las preferencias musicales de las ciudades de Springfield y Shelbyville. Estudiarás datos reales de transmisión de música online para probar la hipótesis a continuación y comparar el comportamiento de los usuarios y las usuarias de estas dos ciudades.\n",
    "\n",
    "1.1  Objetivo:\n",
    "\n",
    "Prueba la hipótesis:\n",
    "\n",
    "La actividad de los usuarios y las usuarias difiere según el día de la semana y dependiendo de la ciudad.\n",
    "\n",
    "1.2  Etapas\n",
    "\n",
    "Los datos del comportamiento del usuario se almacenan en el archivo /datasets/music_project_en.csv. No hay ninguna información sobre la calidad de los datos, así que necesitarás examinarlos antes de probar la hipótesis.\n",
    "\n",
    "Primero, evaluarás la calidad de los datos y verás si los problemas son significativos. Entonces, durante el preprocesamiento de datos, tomarás en cuenta los problemas más críticos.\n",
    "\n",
    "Tu proyecto consistirá en tres etapas:\n",
    "\n",
    "1- Descripción de los datos.\n",
    "\n",
    "2- Preprocesamiento de datos.\n",
    "\n",
    "3- Prueba de hipótesis."
   ]
  },
  {
   "cell_type": "markdown",
   "metadata": {},
   "source": [
    "2  Etapa 1. Descripción de los datos \n",
    "\n",
    "Abre los datos y examínalos.\n",
    "\n",
    "Necesitarás pandas, así que impórtalo."
   ]
  },
  {
   "cell_type": "code",
   "execution_count": null,
   "metadata": {},
   "outputs": [],
   "source": [
    "import pandas as pd\n",
    "\n",
    "#Lee el archivo music_project_en.csv de la carpeta /datasets/ y guárdalo en la variable df:\n",
    "df = pd.read_csv(\"/datasets/music_project_en.csv\")​\n",
    "\n",
    "# Muestra las 10 primeras filas de la tabla:\n",
    "print(df.head(10))\n",
    "\n",
    "\"\"\"     userID                        Track            artist   genre  \\\n",
    "0  FFB692EC            Kamigata To Boots  The Mass Missile    rock   \n",
    "1  55204538  Delayed Because of Accident  Andreas Rönnberg    rock   \n",
    "2    20EC38            Funiculì funiculà       Mario Lanza     pop   \n",
    "3  A3DD03C9        Dragons in the Sunset        Fire + Ice    folk   \n",
    "4  E2DC1FAE                  Soul People        Space Echo   dance   \n",
    "5  842029A1                       Chains          Obladaet  rusrap   \n",
    "6  4CB90AA5                         True      Roman Messer   dance   \n",
    "7  F03E1C1F             Feeling This Way   Polina Griffith   dance   \n",
    "8  8FA1D3BE                     L’estate       Julia Dalia  ruspop   \n",
    "9  E772D5C0                    Pessimist               NaN   dance   \n",
    "\n",
    "        City        time        Day  \n",
    "0  Shelbyville  20:28:33  Wednesday  \n",
    "1  Springfield  14:07:09     Friday  \n",
    "2  Shelbyville  20:58:07  Wednesday  \n",
    "3  Shelbyville  08:37:09     Monday  \n",
    "4  Springfield  08:34:34     Monday  \n",
    "5  Shelbyville  13:09:41     Friday  \n",
    "6  Springfield  13:00:07  Wednesday  \n",
    "7  Springfield  20:47:49  Wednesday  \n",
    "8  Springfield  09:17:40     Friday  \n",
    "9  Shelbyville  21:20:49  Wednesday \"\"\""
   ]
  },
  {
   "cell_type": "code",
   "execution_count": null,
   "metadata": {},
   "outputs": [],
   "source": [
    "#Obtén la información general sobre la tabla con un comando. Conoces el método que muestra la información general que necesitamos.\n",
    "\n",
    "print(df.info())# Obtener la información general sobre nuestros datos\n",
    "\n",
    "\"\"\"<class 'pandas.core.frame.DataFrame'>\n",
    "RangeIndex: 65079 entries, 0 to 65078\n",
    "Data columns (total 7 columns):\n",
    " #   Column    Non-Null Count  Dtype \n",
    "---  ------    --------------  ----- \n",
    " 0     userID  65079 non-null  object\n",
    " 1   Track     63736 non-null  object\n",
    " 2   artist    57512 non-null  object\n",
    " 3   genre     63881 non-null  object\n",
    " 4     City    65079 non-null  object\n",
    " 5   time      65079 non-null  object\n",
    " 6   Day       65079 non-null  object\n",
    "dtypes: object(7)\n",
    "memory usage: 3.5+ MB\n",
    "None\"\"\""
   ]
  },
  {
   "cell_type": "markdown",
   "metadata": {},
   "source": [
    "Estas son nuestras observaciones sobre la tabla. Contiene siete columnas. Almacenan los mismos tipos de datos: object.\n",
    "\n",
    "Según la documentación:\n",
    "\n",
    "' userID': identificador del usuario o la usuaria;\n",
    "\n",
    "'Track': título de la canción;\n",
    "\n",
    "'artist': nombre del artista;\n",
    "\n",
    "'genre': género de la pista;\n",
    "\n",
    "'City': ciudad del usuario o la usuaria;\n",
    "\n",
    "'time': la hora exacta en la que se reprodujo la canción;\n",
    "\n",
    "'Day': día de la semana.\n",
    "\n",
    "\n",
    "Podemos ver tres problemas con el estilo en los encabezados de la tabla:\n",
    "\n",
    "Algunos encabezados están en mayúsculas, otros en minúsculas.\n",
    "Hay espacios en algunos encabezados.\n",
    "\n",
    "Detecta el tercer problema por tu cuenta y descríbelo aquí: Hay datos nulos en las columnas \"track, artist y genre\".\n",
    "\n",
    "2.1  Escribe observaciones de tu parte. Estas son algunas de las preguntas que pueden ser útiles: \n",
    "\n",
    "1.   ¿Qué tipo de datos tenemos a nuestra disposición en las filas?: tenemos datos de tipo objeto ¿Y cómo podemos entender lo que almacenan las columnas?: al revisar lo que almacenan la informacion general y anotar los errores que se pueden corregir\n",
    "\n",
    "2.   ¿Hay suficientes datos para proporcionar respuestas a nuestra hipótesis o necesitamos más información?: Necesitamos obtener mas datos para saber que dia y que dias tiene mas actividad y en que cuidad\n",
    "\n",
    "3.   ¿Notaste algún problema en los datos, como valores ausentes, duplicados o tipos de datos incorrectos?: Si, se necesitan primero corregir los espacios, estandarizar a minusculas los encabezados, encontrar los datos faltantes en ciertas columnas\n",
    "\n",
    "Volver a Contenidos\n",
    "\n",
    "3  Etapa 2. Preprocesamiento de datos \n",
    "\n",
    "El objetivo aquí es preparar los datos para que sean analizados. El primer paso es resolver cualquier problema con los encabezados. Luego podemos avanzar a los valores ausentes y duplicados. Empecemos.\n",
    "\n",
    "Corrige el formato en los encabezados de la tabla.\n",
    "\n",
    "3.1  Estilo del encabezado \n",
    "\n",
    "Muestra los encabezados de la tabla (los nombres de las columnas):"
   ]
  },
  {
   "cell_type": "code",
   "execution_count": null,
   "metadata": {},
   "outputs": [],
   "source": [
    "# Muestra los nombres de las columnas\n",
    "print(df.columns)\n",
    "\n",
    "#Index(['  userID', 'Track', 'artist', 'genre', '  City  ', 'time', 'Day'], dtype='object')"
   ]
  },
  {
   "cell_type": "markdown",
   "metadata": {},
   "source": [
    "Cambia los encabezados de la tabla de acuerdo con las reglas del buen estilo:\n",
    "\n",
    "Todos los caracteres deben ser minúsculas.\n",
    "\n",
    "Elimina los espacios.\n",
    "\n",
    "Si el nombre tiene varias palabras, utiliza snake_case.\n",
    "\n",
    "Anteriormente, aprendiste acerca de la forma automática de cambiar el nombre de las columnas. Vamos a aplicarla ahora. Utiliza el bucle for para iterar sobre los nombres de las columnas y poner todos los caracteres en minúsculas. Cuando hayas terminado, vuelve a mostrar los encabezados de la tabla:"
   ]
  },
  {
   "cell_type": "code",
   "execution_count": null,
   "metadata": {},
   "outputs": [],
   "source": [
    "# Bucle en los encabezados poniendo todo en minúsculas\n",
    "import pandas as pd\n",
    "\n",
    "df = pd.read_csv(\"/datasets/music_project_en.csv\")\n",
    "\n",
    "columns_corrected = []\n",
    "\n",
    "#modify columns name data\n",
    "for column in df.columns:\n",
    "    name_lowered = column.lower()\n",
    "    \n",
    "    #asign changes made to new varible\n",
    "    columns_corrected.append(name_lowered)\n",
    "    \n",
    "#asigns changes to original DataFrame columns\n",
    "df.columns = columns_corrected\n",
    "\n",
    "print(df.columns)\n",
    "\n",
    "#Index(['  userid', 'track', 'artist', 'genre', '  city  ', 'time', 'day'], dtype='object')"
   ]
  },
  {
   "cell_type": "markdown",
   "metadata": {},
   "source": [
    "Ahora, utilizando el mismo método, elimina los espacios al principio y al final de los nombres de las columnas e imprime los nombres de las columnas nuevamente:"
   ]
  },
  {
   "cell_type": "code",
   "execution_count": null,
   "metadata": {},
   "outputs": [],
   "source": [
    "# Bucle en los encabezados eliminando los espacios\n",
    "columns_corrected = []\n",
    "#modify columns name data\n",
    "for column in df.columns:\n",
    "    name_stripped = column.strip()\n",
    "    \n",
    "    #asign changes made to new varible\n",
    "    columns_corrected.append(name_stripped)\n",
    "    \n",
    "#asigns changes to original DataFrame columns\n",
    "df.columns = columns_corrected\n",
    "\n",
    "print(df.columns)\n",
    "\n",
    "#Index(['userid', 'track', 'artist', 'genre', 'city', 'time', 'day'], dtype='object')"
   ]
  },
  {
   "cell_type": "markdown",
   "metadata": {},
   "source": [
    "Necesitamos aplicar la regla de snake_case a la columna userid.\n",
    "\n",
    "Debe ser user_id. Cambia el nombre de esta columna y muestra los nombres de todas las columnas cuando hayas terminado."
   ]
  },
  {
   "cell_type": "code",
   "execution_count": null,
   "metadata": {},
   "outputs": [],
   "source": [
    "# Cambiar el nombre de la columna \"userid\"\n",
    "snake_userid_name = {'userid': 'user_id'}\n",
    "df.rename(columns=snake_userid_name, inplace=True)\n",
    "\n",
    "print(df.columns)\n",
    "\n",
    "\n",
    "#Index(['user_id', 'track', 'artist', 'genre', 'city', 'time', 'day'], dtype='object')"
   ]
  },
  {
   "cell_type": "markdown",
   "metadata": {},
   "source": [
    "3.2  Valores ausentes \n",
    "\n",
    "Primero, encuentra el número de valores ausentes en la tabla. Debes utilizar dos métodos en una secuencia para obtener el número de valores ausentes."
   ]
  },
  {
   "cell_type": "code",
   "execution_count": null,
   "metadata": {},
   "outputs": [],
   "source": [
    "# Calcular el número de valores ausentes\n",
    "\n",
    "print(df.isna().sum())\n",
    "\n",
    "\"\"\"user_id       0\n",
    "track      1343\n",
    "artist     7567\n",
    "genre      1198\n",
    "city          0\n",
    "time          0\n",
    "day           0\n",
    "dtype: int64\"\"\""
   ]
  },
  {
   "cell_type": "markdown",
   "metadata": {},
   "source": [
    "No todos los valores ausentes afectan a la investigación. Por ejemplo, los valores ausentes en track y artist no son cruciales. Simplemente puedes reemplazarlos con valores predeterminados como el string 'unknown' (desconocido).\n",
    "\n",
    "Pero los valores ausentes en 'genre' pueden afectar la comparación entre las preferencias musicales de Springfield y Shelbyville. En la vida real, sería útil saber las razones por las cuales hay datos ausentes e intentar recuperarlos. Pero no tenemos esa oportunidad en este proyecto. Así que tendrás que:\n",
    "\n",
    "- rellenar estos valores ausentes con un valor predeterminado;\n",
    "\n",
    "- evaluar cuánto podrían afectar los valores ausentes a tus cómputos;\n",
    "\n",
    "Reemplazar los valores ausentes en las columnas 'track', 'artist' y 'genre' con el string 'unknown'. Como mostramos anteriormente en las lecciones, la mejor forma de hacerlo es crear una lista que almacene los nombres de las columnas donde se necesita el reemplazo. Luego, utiliza esta lista e itera sobre las columnas donde se necesita el reemplazo haciendo el propio reemplazo."
   ]
  },
  {
   "cell_type": "code",
   "execution_count": null,
   "metadata": {},
   "outputs": [],
   "source": [
    "# Bucle en los encabezados reemplazando los valores ausentes con 'unknown'\n",
    "\n",
    "columns_to_replace = [\"track\", \"artist\", \"genre\"]\n",
    "\n",
    "for column in columns_to_replace:\n",
    "    df[column].fillna('unknown', inplace = True)"
   ]
  },
  {
   "cell_type": "markdown",
   "metadata": {},
   "source": [
    "Ahora comprueba el resultado para asegurarte de que después del reemplazo no haya valores ausentes en el conjunto de datos. Para hacer esto, cuenta los valores ausentes nuevamente."
   ]
  },
  {
   "cell_type": "code",
   "execution_count": null,
   "metadata": {},
   "outputs": [],
   "source": [
    "# Contar valores ausentes\n",
    "print(df.isna().sum())\n",
    "\n",
    "\"\"\"user_id    0\n",
    "track      0\n",
    "artist     0\n",
    "genre      0\n",
    "city       0\n",
    "time       0\n",
    "day        0\n",
    "dtype: int64\"\"\""
   ]
  },
  {
   "cell_type": "markdown",
   "metadata": {},
   "source": [
    "3.3  Duplicados\n",
    " \n",
    "Encuentra el número de duplicados explícitos en la tabla. Una vez más, debes aplicar dos métodos en una secuencia para obtener la cantidad de duplicados explícitos."
   ]
  },
  {
   "cell_type": "code",
   "execution_count": null,
   "metadata": {},
   "outputs": [],
   "source": [
    "# Contar duplicados explícitos\n",
    "print(df.duplicated().sum())\n",
    "\n",
    "#3826"
   ]
  },
  {
   "cell_type": "code",
   "execution_count": null,
   "metadata": {},
   "outputs": [],
   "source": [
    "#Ahora, elimina todos los duplicados. Para ello, llama al método que \n",
    "# hace exactamente esto.\n",
    "# Eliminar duplicados explícitos\n",
    "df = df.drop_duplicates()\n"
   ]
  },
  {
   "cell_type": "markdown",
   "metadata": {},
   "source": [
    "Comprobemos ahora si eliminamos con éxito todos los duplicados. Cuenta los duplicados explícitos una vez más para asegurarte de haberlos eliminado todos:"
   ]
  },
  {
   "cell_type": "code",
   "execution_count": null,
   "metadata": {},
   "outputs": [],
   "source": [
    "# Comprobar de nuevo si hay duplicados\n",
    "print(df.duplicated().sum())\n",
    "\n",
    "#0"
   ]
  },
  {
   "cell_type": "markdown",
   "metadata": {},
   "source": [
    "Ahora queremos deshacernos de los duplicados implícitos en la columna genre. Por ejemplo, el nombre de un género se puede escribir de varias formas. Dichos errores también pueden afectar al resultado.\n",
    "\n",
    "Para hacerlo, primero mostremos una lista de nombres de género únicos, ordenados en orden alfabético. Para ello:\n",
    "\n",
    "- Extrae la columna genre del DataFrame.\n",
    "\n",
    "- Llama al método que devolverá todos los valores únicos en la columna extraída."
   ]
  },
  {
   "cell_type": "code",
   "execution_count": null,
   "metadata": {},
   "outputs": [],
   "source": [
    "# Inspeccionar los nombres de géneros únicos\n",
    "print(sorted(df['genre'].unique()))\n",
    "\n"
   ]
  },
  {
   "cell_type": "markdown",
   "metadata": {},
   "source": [
    "output:\n",
    "\n",
    "['acid', 'acoustic', 'action', 'adult', 'africa', 'afrikaans', 'alternative', 'ambient', 'americana', 'animated', 'anime', 'arabesk', 'arabic', 'arena', 'argentinetango', 'art', 'audiobook', 'avantgarde', 'axé', 'baile', 'balkan', 'beats', 'bigroom', 'black', 'bluegrass', 'blues', 'bollywood', 'bossa', 'brazilian', 'breakbeat', 'breaks', 'broadway', 'cantautori', 'cantopop', 'canzone', 'caribbean', 'caucasian', 'celtic', 'chamber', 'children', 'chill', 'chinese', 'choral', 'christian', 'christmas', 'classical', 'classicmetal', 'club', 'colombian', 'comedy', 'conjazz', 'contemporary', 'country', 'cuban', 'dance', 'dancehall', 'dancepop', 'dark', 'death', 'deep', 'deutschrock', 'deutschspr', 'dirty', 'disco', 'dnb', 'documentary', 'downbeat', 'downtempo', 'drum', 'dub', 'dubstep', 'eastern', 'easy', 'electronic', 'electropop', 'emo', 'entehno', 'epicmetal', 'estrada', 'ethnic', 'eurofolk', 'european', 'experimental', 'extrememetal', 'fado', 'film', 'fitness', 'flamenco', 'folk', 'folklore', 'folkmetal', 'folkrock', 'folktronica', 'forró', 'frankreich', 'französisch', 'french', 'funk', 'future', 'gangsta', 'garage', 'german', 'ghazal', 'gitarre', 'glitch', 'gospel', 'gothic', 'grime', 'grunge', 'gypsy', 'handsup', \"hard'n'heavy\", 'hardcore', 'hardstyle', 'hardtechno', 'hip', 'hip-hop', 'hiphop', 'historisch', 'holiday', 'hop', 'horror', 'house', 'idm', 'independent', 'indian', 'indie', 'indipop', 'industrial', 'inspirational', 'instrumental', 'international', 'irish', 'jam', 'japanese', 'jazz', 'jewish', 'jpop', 'jungle', 'k-pop', 'karadeniz', 'karaoke', 'kayokyoku', 'korean', 'laiko', 'latin', 'latino', 'leftfield', 'local', 'lounge', 'loungeelectronic', 'lovers', 'malaysian', 'mandopop', 'marschmusik', 'meditative', 'mediterranean', 'melodic', 'metal', 'metalcore', 'mexican', 'middle', 'minimal', 'miscellaneous', 'modern', 'mood', 'mpb', 'muslim', 'native', 'neoklassik', 'neue', 'new', 'newage', 'newwave', 'nu', 'nujazz', 'numetal', 'oceania', 'old', 'opera', 'orchestral', 'other', 'piano', 'pop', 'popelectronic', 'popeurodance', 'post', 'posthardcore', 'postrock', 'power', 'progmetal', 'progressive', 'psychedelic', 'punjabi', 'punk', 'quebecois', 'ragga', 'ram', 'rancheras', 'rap', 'rave', 'reggae', 'reggaeton', 'regional', 'relax', 'religious', 'retro', 'rhythm', 'rnb', 'rnr', 'rock', 'rockabilly', 'romance', 'roots', 'ruspop', 'rusrap', 'rusrock', 'salsa', 'samba', 'schlager', 'self', 'sertanejo', 'shoegazing', 'showtunes', 'singer', 'ska', 'slow', 'smooth', 'soul', 'soulful', 'sound', 'soundtrack', 'southern', 'specialty', 'speech', 'spiritual', 'sport', 'stonerrock', 'surf', 'swing', 'synthpop', 'sängerportrait', 'tango', 'tanzorchester', 'taraftar', 'tech', 'techno', 'thrash', 'top', 'traditional', 'tradjazz', 'trance', 'tribal', 'trip', 'triphop', 'tropical', 'türk', 'türkçe', 'unknown', 'urban', 'uzbek', 'variété', 'vi', 'videogame', 'vocal', 'western', 'world', 'worldbeat', 'ïîï']"
   ]
  },
  {
   "cell_type": "markdown",
   "metadata": {},
   "source": [
    "Busca en la lista para encontrar duplicados implícitos del género hiphop. Estos pueden ser nombres escritos incorrectamente o nombres alternativos para el mismo género.\n",
    "\n",
    "Verás los siguientes duplicados implícitos:\n",
    "\n",
    "- hip\n",
    "- hop\n",
    "- hip-hop\n",
    "\n",
    "Para deshacerte de ellos, crea una función llamada replace_wrong_genres() con dos parámetros:\n",
    "\n",
    "- wrong_genres=: esta es una lista que contiene todos los valores que necesitas reemplazar.\n",
    "\n",
    "- correct_genre=: este es un string que vas a utilizar como reemplazo.\n",
    "\n",
    "Como resultado, la función debería corregir los nombres en la columna 'genre' de la tabla df, es decir, remplazar cada valor de la lista wrong_genres por el valor en correct_genre.\n",
    "\n",
    "Dentro del cuerpo de la función, utiliza un bucle 'for' para iterar sobre la lista de géneros incorrectos, extrae la columna 'genre' y aplica el método replace para hacer correcciones."
   ]
  },
  {
   "cell_type": "code",
   "execution_count": null,
   "metadata": {},
   "outputs": [],
   "source": [
    "# Función para reemplazar duplicados implícitos\n",
    "def replace_wrong_genres(df, column, wrong_genres, correct_genre):\n",
    "    for wrong_genre in wrong_genres:\n",
    "        df[column] = df[column].replace(wrong_genre, correct_genre)\n",
    "    return df\n"
   ]
  },
  {
   "cell_type": "markdown",
   "metadata": {},
   "source": [
    "Ahora, llama a replace_wrong_genres() y pásale tales argumentos para que retire los duplicados implícitos (hip, hop y hip-hop) y los reemplace por hiphop:"
   ]
  },
  {
   "cell_type": "code",
   "execution_count": null,
   "metadata": {},
   "outputs": [],
   "source": [
    "# Eliminar duplicados implícitos\n",
    "\n",
    "wrong_genres = ['hip', 'hop', 'hip-hop']\n",
    "correct_genre = 'hiphop'\n",
    "\n",
    "df = replace_wrong_genres(df, 'genre', wrong_genres, correct_genre)"
   ]
  },
  {
   "cell_type": "markdown",
   "metadata": {},
   "source": [
    "Asegúrate de que los nombres duplicados han sido eliminados. Muestra la lista de valores únicos de la columna 'genre' una vez más:"
   ]
  },
  {
   "cell_type": "code",
   "execution_count": null,
   "metadata": {},
   "outputs": [],
   "source": [
    "# Comprobación de duplicados implícitos\n",
    "print(sorted(df['genre'].unique()))"
   ]
  },
  {
   "cell_type": "markdown",
   "metadata": {},
   "source": [
    "['acid', 'acoustic', 'action', 'adult', 'africa', 'afrikaans', 'alternative', 'ambient', 'americana', 'animated', 'anime', 'arabesk', 'arabic', 'arena', 'argentinetango', 'art', 'audiobook', 'avantgarde', 'axé', 'baile', 'balkan', 'beats', 'bigroom', 'black', 'bluegrass', 'blues', 'bollywood', 'bossa', 'brazilian', 'breakbeat', 'breaks', 'broadway', 'cantautori', 'cantopop', 'canzone', 'caribbean', 'caucasian', 'celtic', 'chamber', 'children', 'chill', 'chinese', 'choral', 'christian', 'christmas', 'classical', 'classicmetal', 'club', 'colombian', 'comedy', 'conjazz', 'contemporary', 'country', 'cuban', 'dance', 'dancehall', 'dancepop', 'dark', 'death', 'deep', 'deutschrock', 'deutschspr', 'dirty', 'disco', 'dnb', 'documentary', 'downbeat', 'downtempo', 'drum', 'dub', 'dubstep', 'eastern', 'easy', 'electronic', 'electropop', 'emo', 'entehno', 'epicmetal', 'estrada', 'ethnic', 'eurofolk', 'european', 'experimental', 'extrememetal', 'fado', 'film', 'fitness', 'flamenco', 'folk', 'folklore', 'folkmetal', 'folkrock', 'folktronica', 'forró', 'frankreich', 'französisch', 'french', 'funk', 'future', 'gangsta', 'garage', 'german', 'ghazal', 'gitarre', 'glitch', 'gospel', 'gothic', 'grime', 'grunge', 'gypsy', 'handsup', \"hard'n'heavy\", 'hardcore', 'hardstyle', 'hardtechno', 'hiphop', 'historisch', 'holiday', 'horror', 'house', 'idm', 'independent', 'indian', 'indie', 'indipop', 'industrial', 'inspirational', 'instrumental', 'international', 'irish', 'jam', 'japanese', 'jazz', 'jewish', 'jpop', 'jungle', 'k-pop', 'karadeniz', 'karaoke', 'kayokyoku', 'korean', 'laiko', 'latin', 'latino', 'leftfield', 'local', 'lounge', 'loungeelectronic', 'lovers', 'malaysian', 'mandopop', 'marschmusik', 'meditative', 'mediterranean', 'melodic', 'metal', 'metalcore', 'mexican', 'middle', 'minimal', 'miscellaneous', 'modern', 'mood', 'mpb', 'muslim', 'native', 'neoklassik', 'neue', 'new', 'newage', 'newwave', 'nu', 'nujazz', 'numetal', 'oceania', 'old', 'opera', 'orchestral', 'other', 'piano', 'pop', 'popelectronic', 'popeurodance', 'post', 'posthardcore', 'postrock', 'power', 'progmetal', 'progressive', 'psychedelic', 'punjabi', 'punk', 'quebecois', 'ragga', 'ram', 'rancheras', 'rap', 'rave', 'reggae', 'reggaeton', 'regional', 'relax', 'religious', 'retro', 'rhythm', 'rnb', 'rnr', 'rock', 'rockabilly', 'romance', 'roots', 'ruspop', 'rusrap', 'rusrock', 'salsa', 'samba', 'schlager', 'self', 'sertanejo', 'shoegazing', 'showtunes', 'singer', 'ska', 'slow', 'smooth', 'soul', 'soulful', 'sound', 'soundtrack', 'southern', 'specialty', 'speech', 'spiritual', 'sport', 'stonerrock', 'surf', 'swing', 'synthpop', 'sängerportrait', 'tango', 'tanzorchester', 'taraftar', 'tech', 'techno', 'thrash', 'top', 'traditional', 'tradjazz', 'trance', 'tribal', 'trip', 'triphop', 'tropical', 'türk', 'türkçe', 'unknown', 'urban', 'uzbek', 'variété', 'vi', 'videogame', 'vocal', 'western', 'world', 'worldbeat', 'ïîï']"
   ]
  },
  {
   "cell_type": "markdown",
   "metadata": {},
   "source": [
    "3.4  Tus observaciones \n",
    "\n",
    "Describe brevemente lo que has notado al analizar duplicados, cómo abordaste sus eliminaciones y qué resultados obtuviste.\n",
    "\n",
    "Note que puede haber muchos datos que pueden ser duplicados facilmente por algun error humano de escritura.\n",
    "\n",
    "Los errores fueron abordados al identificar los errores a corregir usando el metodo unique para identificarlo y una funcion para poder acceder y corregir los datos.\n",
    "\n",
    "El resultado fue limpiar los datos para poder tener un resultado mas fidedigno de la hipotesis buscada"
   ]
  },
  {
   "cell_type": "markdown",
   "metadata": {},
   "source": [
    "4  Etapa 3. Prueba de hipótesis \n",
    "\n",
    "4.1  Hipótesis: comparar el comportamiento del usuario o la usuaria en las dos ciudades \n",
    "\n",
    "La hipótesis afirma que existen diferencias en la forma en que los usuarios y las usuarias de Springfield y Shelbyville consumen música. Para comprobar esto, usa los datos de tres días de la semana: lunes, miércoles y viernes.\n",
    "\n",
    "- Agrupa a los usuarios y las usuarias por ciudad.\n",
    "\n",
    "- Compara el número de canciones que cada grupo reprodujo el lunes, el miércoles y el viernes.\n",
    "\n",
    "Realiza cada cálculo por separado.\n",
    "\n",
    "El primer paso es evaluar la actividad del usuario en cada ciudad. Recuerda las etapas dividir-aplicar-combinar de las que hablamos anteriormente en la lección. Tu objetivo ahora es agrupar los datos por ciudad, aplicar el método apropiado para contar durante la etapa de aplicación y luego encontrar la cantidad de canciones reproducidas en cada grupo especificando la columna para obtener el recuento.\n",
    "\n",
    "A continuación se muestra un ejemplo de cómo debería verse el resultado final: df.groupby(by='....')['column'].method()Realiza cada cálculo por separado.\n",
    "\n",
    "Para evaluar la actividad de los usuarios y las usuarias en cada ciudad, agrupa los datos por ciudad y encuentra la cantidad de canciones reproducidas en cada grupo."
   ]
  },
  {
   "cell_type": "code",
   "execution_count": null,
   "metadata": {},
   "outputs": [],
   "source": [
    "# Contar las canciones reproducidas en cada ciudad\n",
    "\n",
    "#agrupar por cuidad\n",
    "print(df.groupby('city')['user_id'].count())\n",
    "\n",
    "\"\"\"city\n",
    "Shelbyville    18512\n",
    "Springfield    42741\n",
    "Name: user_id, dtype: int64\"\"\""
   ]
  },
  {
   "cell_type": "markdown",
   "metadata": {},
   "source": [
    "Comenta tus observaciones aquí Como primera parte de comprobar la hipotesis se tiene que dividir los datos especificos buscados usando las funciones groupby() y count() para poder acceder a la informacion de cuanto tiempo de actividad tiene cada cuidad escuchado musica.\n",
    "\n",
    "Ahora agrupemos los datos por día de la semana y encontremos el número de canciones reproducidas el lunes, miércoles y viernes. Utiliza el mismo método que antes, pero ahora necesitamos una agrupación diferente"
   ]
  },
  {
   "cell_type": "code",
   "execution_count": null,
   "metadata": {},
   "outputs": [],
   "source": [
    "# Calcular las canciones reproducidas en cada uno de los tres días\n",
    "#agrupar por cantidad de canciones reproducidas\n",
    "df_day_filtered = df[df['day'].isin(['Monday', 'Wednesday', 'Friday'])]\n",
    "songs_by_day = df_day_filtered.groupby('day')['user_id'].count()\n",
    "print(songs_by_day)\n",
    "\n",
    "\"\"\"day\n",
    "Friday       21840\n",
    "Monday       21354\n",
    "Wednesday    18059\n",
    "Name: user_id, dtype: int64\"\"\""
   ]
  },
  {
   "cell_type": "markdown",
   "metadata": {},
   "source": [
    "Comenta tus observaciones aquí Ahora filtramos los datos solo de los dias pedidos en la hipotesis para tener un resultado mas concreto. Basado en eso se filtra por cada dia los datos de cada usuario.\n",
    "\n",
    "Ya sabes cómo contar entradas agrupándolas por ciudad o día. Ahora necesitas escribir una función que pueda contar entradas según ambos criterios simultáneamente.\n",
    "\n",
    "Crea la función number_tracks() para calcular el número de canciones reproducidas en un determinado día y ciudad. La función debe aceptar dos parámetros:\n",
    "\n",
    "- day: un día de la semana para filtrar. Por ejemplo, 'Monday' (lunes).\n",
    "\n",
    "- city: una ciudad para filtrar. Por ejemplo, 'Springfield'.\n",
    "Dentro de la función, aplicarás un filtrado consecutivo con indexación lógica.\n",
    "\n",
    "Primero filtra los datos por día y luego filtra la tabla resultante por ciudad.\n",
    "\n",
    "Después de filtrar los datos por dos criterios, cuenta el número de valores de la columna 'user_id' en la tabla resultante. Este recuento representa el número de entradas que estás buscando. Guarda el resultado en una nueva variable y devuélvelo desde la función."
   ]
  },
  {
   "cell_type": "code",
   "execution_count": null,
   "metadata": {},
   "outputs": [],
   "source": [
    "# Declara la función number_tracks() con dos parámetros: day= y city=.\n",
    "def number_tracks(df, day, city):\n",
    "\n",
    "    # Almacena las filas del DataFrame donde el valor en la columna 'day' es igual al parámetro day=\n",
    "    day_filtered = df[df['day'] == day]\n",
    "    # Filtra las filas donde el valor en la columna 'city' es igual al parámetro city=\n",
    "    city_filtered = day_filtered[day_filtered['city'] == city]\n",
    "    # Extrae la columna 'user_id' de la tabla filtrada y aplica el método count()\n",
    "    track_count = city_filtered['user_id'].count()\n",
    "    # Devolve el número de valores de la columna 'user_id'\n",
    "    return track_count"
   ]
  },
  {
   "cell_type": "markdown",
   "metadata": {},
   "source": [
    "Llama a number_tracks() seis veces, cambiando los valores de los parámetros para que recuperes los datos de ambas ciudades para cada uno de los tres días."
   ]
  },
  {
   "cell_type": "code",
   "execution_count": null,
   "metadata": {},
   "outputs": [],
   "source": [
    "# El número de canciones reproducidas en Springfield el lunes\n",
    "monday_springfield_songs = number_tracks(df, 'Monday', 'Springfield')\n",
    "\n",
    "print(\"Canciones reproducidas el lunes en Springfield:\", monday_springfield_songs)\n",
    "#Canciones reproducidas el lunes en Springfield: 15740"
   ]
  },
  {
   "cell_type": "code",
   "execution_count": null,
   "metadata": {},
   "outputs": [],
   "source": [
    "# El número de canciones reproducidas en Shelbyville el lunes\n",
    "monday_shelbyville_songs = number_tracks(df, 'Monday', 'Shelbyville')\n",
    "\n",
    "print(f\"Canciones reproducidas el lunes en Shelbyville: {monday_shelbyville_songs}\")\n",
    "#Canciones reproducidas el lunes en Shelbyville: 5614"
   ]
  },
  {
   "cell_type": "code",
   "execution_count": null,
   "metadata": {},
   "outputs": [],
   "source": [
    "# El número de canciones reproducidas en Springfield el miércoles\n",
    "wednesday_springfield_songs = number_tracks(df, 'Wednesday', 'Springfield')\n",
    "\n",
    "print(\"Canciones reproducidas el miércoles en Springfield:\", wednesday_springfield_songs)\n",
    "#Canciones reproducidas el miércoles en Springfield: 11056"
   ]
  },
  {
   "cell_type": "code",
   "execution_count": null,
   "metadata": {},
   "outputs": [],
   "source": [
    "# El número de canciones reproducidas en Shelbyville el miércoles\n",
    "wednesday_shelbyville_songs = number_tracks(df, 'Wednesday', 'Shelbyville')\n",
    "\n",
    "print(f\"Canciones reproducidas el miércoles en Shelbyville: {wednesday_shelbyville_songs}\")\n",
    "#Canciones reproducidas el miércoles en Shelbyville: 7003"
   ]
  },
  {
   "cell_type": "code",
   "execution_count": null,
   "metadata": {},
   "outputs": [],
   "source": [
    "# El número de canciones reproducidas en Springfield el viernes\n",
    "friday_springfield_songs = number_tracks(df, 'Friday', 'Springfield')\n",
    "\n",
    "print(\"Canciones reproducidas el viernes en Springfield:\", friday_springfield_songs)\n",
    "#Canciones reproducidas el viernes en Springfield: 15945"
   ]
  },
  {
   "cell_type": "code",
   "execution_count": null,
   "metadata": {},
   "outputs": [],
   "source": [
    "# El número de canciones reproducidas en Shelbyville el viernes\n",
    "friday_shelbyville_songs = number_tracks(df, 'Friday', 'Shelbyville')\n",
    "\n",
    "print(f\"Canciones reproducidas el viernes en Shelbyville: {friday_shelbyville_songs}\")\n",
    "#Canciones reproducidas el viernes en Shelbyville: 5895"
   ]
  },
  {
   "cell_type": "markdown",
   "metadata": {},
   "source": [
    "Conclusiones\n",
    "\n",
    "Comenta si la hipótesis es correcta o se debe rechazar. Explica tu razonamiento. Hipotesis: La actividad de los usuarios y las usuarias difiere según el día de la semana y dependiendo de la ciudad.\n",
    "\n",
    "Al parecer la hipotesis es correcta ya que se puede ver que los dias con mayor actividad de usuarios es el lunes y el viernes y el de menor actividad es el miercoles, y la cuidad con mayor actividad es Springfield.\n",
    "\n",
    "Volver a Contenidos\n",
    "\n",
    "Conclusiones \n",
    "\n",
    "`Resume aquí tus conclusiones sobre la hipótesis\n",
    "\n",
    "Creo que la hipotesis estuvo bien planteada, aunque probablemente los resultados se deban a que una ciudad es mas grande que la otra, el data frame no tiene datos de desidad de poblacion asi que, pensando que ambas cuidaded tienen la misma cantidad de poblacion, la hipotesis seria correcta"
   ]
  }
 ],
 "metadata": {
  "kernelspec": {
   "display_name": "Python 3",
   "language": "python",
   "name": "python3"
  },
  "language_info": {
   "codemirror_mode": {
    "name": "ipython",
    "version": 3
   },
   "file_extension": ".py",
   "mimetype": "text/x-python",
   "name": "python",
   "nbconvert_exporter": "python",
   "pygments_lexer": "ipython3",
   "version": "3.12.0"
  }
 },
 "nbformat": 4,
 "nbformat_minor": 2
}
